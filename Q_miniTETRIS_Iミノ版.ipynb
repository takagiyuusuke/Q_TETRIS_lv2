{
  "nbformat": 4,
  "nbformat_minor": 0,
  "metadata": {
    "colab": {
      "provenance": [],
      "collapsed_sections": [
        "qT2hfnFqv0fn",
        "du2UGARBvXuq"
      ],
      "include_colab_link": true
    },
    "kernelspec": {
      "name": "python3",
      "display_name": "Python 3"
    },
    "language_info": {
      "name": "python"
    }
  },
  "cells": [
    {
      "cell_type": "markdown",
      "metadata": {
        "id": "view-in-github",
        "colab_type": "text"
      },
      "source": [
        "<a href=\"https://colab.research.google.com/github/takagiyuusuke/Q_TETRIS_lv2/blob/main/Q_miniTETRIS_I%E3%83%9F%E3%83%8E%E7%89%88.ipynb\" target=\"_parent\"><img src=\"https://colab.research.google.com/assets/colab-badge.svg\" alt=\"Open In Colab\"/></a>"
      ]
    },
    {
      "cell_type": "markdown",
      "source": [
        "# ★ 最初に実行すること"
      ],
      "metadata": {
        "id": "r5ZqqJvRW94P"
      }
    },
    {
      "cell_type": "markdown",
      "source": [
        "## 0. インポート・乱数シードの設定"
      ],
      "metadata": {
        "id": "jUSMkKlA42TN"
      }
    },
    {
      "cell_type": "code",
      "execution_count": null,
      "metadata": {
        "id": "-14IUw2d2_QA"
      },
      "outputs": [],
      "source": [
        "import random\n",
        "\n",
        "import torch\n",
        "import numpy as np\n",
        "\n",
        "\n",
        "random.seed(0)\n",
        "np.random.seed(0)\n",
        "torch.manual_seed(0)"
      ]
    },
    {
      "cell_type": "markdown",
      "source": [
        "## 1. miniTETRISのロジック\n",
        "横6マスのテトリスを定義する"
      ],
      "metadata": {
        "id": "99T-14SE5Bpw"
      }
    },
    {
      "cell_type": "code",
      "source": [
        "import copy\n",
        "import time\n",
        "\n",
        "class Tetris:\n",
        "  #各種ブロックの定義\n",
        "  block1 = [[-1, 2, 1], [0, 2, 1], [-1, 3, 1], [0, 3, 1], [-0.5, 2.5]] #O\n",
        "  block2 = [[0, 2, 2], [0, 3, 2], [0, 4, 2], [-1, 3, 2], [0, 3]] #T\n",
        "  block3 = [[-1, 1, 3], [-1, 2, 3], [-1, 3, 3], [-1, 4, 3], [-0.5, 2.5]] #I\n",
        "  block4 = [[0, 2, 4], [0, 3, 4], [0, 4, 4], [-1, 2, 4], [0, 3]] #J\n",
        "  block5 = [[-1, 4, 5], [0, 2, 5], [0, 3, 5], [0, 4, 5], [0, 3]] #L\n",
        "  block6 = [[-1, 2, 6], [-1, 3, 6], [0, 3, 6], [0, 4, 6], [0, 3]] #Z\n",
        "  block7 = [[0, 2, 7], [0, 3, 7], [-1, 3, 7], [-1, 4, 7], [0, 3]] #S\n",
        "  blocks =[block2,block2,block2,block2,block2,block2,block2]\n",
        "\n",
        "  #ブロックの回転の定義\n",
        "  roundblock=[[[[0,-1],[-1,0],[0,1]],[[-1,0],[0,1],[1,0]],[[0,1],[1,0],[0,-1]],[[1,0],[0,-1],[-1,0]]],\n",
        "  [[[-0.5,-1.5],[-0.5,-0.5],[-0.5,0.5],[-0.5,1.5]],[[-1.5,0.5],[-0.5,0.5],[0.5,0.5],[1.5,0.5]],[[0.5,-1.5],[0.5,-0.5],[0.5,0.5],[0.5,1.5]],[[-1.5,-0.5],[-0.5,-0.5],[0.5,-0.5],[1.5,-0.5]]],\n",
        "  [[[-1,-1],[0,-1],[0,1]],[[-1,1],[-1,0],[1,0]],[[0,-1],[0,1],[1,1]],[[-1,0],[1,0],[1,-1]]],\n",
        "  [[[-1,1],[0,1],[0,-1]],[[1,0],[-1,0],[1,1]],[[0,-1],[0,1],[1,-1]],[[1,0],[-1,0],[-1,-1]]],\n",
        "  [[[-1,-1],[-1,0],[0,1]],[[-1,1],[0,1],[1,0]],[[0,-1],[1,0],[1,1]],[[1,-1],[0,-1],[-1,0]]],\n",
        "  [[[0,-1],[-1,0],[-1,1]],[[-1,0],[0,1],[1,1]],[[1,-1],[1,0],[0,1]],[[-1,-1],[0,-1],[1,0]]]]\n",
        "\n",
        "  #ブロックを回転する際に移動する座標を定義(詳しくはSRS)\n",
        "  SRS =[[[0,0],[0,1],[-1,1],[2,0],[2,1]],[[0,0],[0,-1],[-1,-1],[2,0],[2,-1]],[[0,0],[0,-1],[1,-1],[-2,0],[-2,-1]],[[0,0],[0,1],[1,1],[-2,0],[-2,1]]]\n",
        "  SRSofI =[[[0,0],[0,-1],[0,2],[-2,-1],[1,2]],[[0,0],[0,-2],[0,1],[1,-2],[-2,1]],[[0,0],[0,1],[0,-2],[1,2],[-1,-2]],[[0,0],[0,2],[0,-1],[-1,2],[2,-1]]]\n",
        "\n",
        "  '''\n",
        "  盤面の情報などの情報の初期化を行う\n",
        "  display:画面を表示するか否か\n",
        "  '''\n",
        "  def __init__(self, display: bool, interval = 0):\n",
        "    self.display = display\n",
        "    self.interval = interval\n",
        "    self.reset_game()\n",
        "\n",
        "  '''\n",
        "  ゲームをリセットする\n",
        "  '''\n",
        "  def reset_game(self):\n",
        "    self.location=[]  #現在の盤面\n",
        "    self.moveblock=[] #現在落下中のブロック\n",
        "    self.hold=[]      #ホールド中のブロック\n",
        "    self.angle = 0    #落下中のブロックの角度(0,1,2,3)\n",
        "    self.num=1        #落下中のブロックが何番目か\n",
        "    self.lines = 0    #消したラインの数\n",
        "    self.score = 0    #スコア\n",
        "    self.level = 0    #レベル\n",
        "    self.canhold = True  #ホールドできるか\n",
        "    self.turn_right = [] #右回転した場合のブロック配置\n",
        "    self.turn_left = []  #左回転した場合のブロック配置\n",
        "    self.before_action = \"\" #前回の行動\n",
        "    self.before_before_action = \"\" #前々回の行動\n",
        "    self.downcount = 0 #強制的に落下させるときに使用\n",
        "    self.nex =[random.choice(Tetris.blocks) for i in range(20)] #後におちるブロック\n",
        "\n",
        "\n",
        "    self.setblock(copy.deepcopy(self.nex[0])) #最初のブロックをセットする\n",
        "\n",
        "  '''\n",
        "  ゲームの盤面を表示する\n",
        "  '''\n",
        "  def printboard(self, display_force = False):\n",
        "      if display_force:\n",
        "        pass\n",
        "      elif not self.display:\n",
        "        return\n",
        "      board = \"\\n\"\n",
        "      board += (\"⏹\"*8+\"     NEXT \"+str(self.num+1) +\"\\n\")\n",
        "      for i in range(22):\n",
        "          board += (\"⏹\")\n",
        "          for j in range(6):\n",
        "              ad = [l for l in self.location + self.moveblock if l[0] ==i and l[1]==j]\n",
        "              if ad:\n",
        "                  if ad[0][2] ==0:\n",
        "                      board += (\"💥\")\n",
        "                  else:\n",
        "                      board += (chr(128996+ad[0][2]))\n",
        "              else:\n",
        "                  board += (\"⬜\")\n",
        "          board += (\"⏹  \")\n",
        "          if i == 0 or i == 1:\n",
        "              for j in range(1,5):\n",
        "                  af = [l for l in self.nex[self.num%20] if l[0] ==i-1 and l[1]==j]\n",
        "                  if af:\n",
        "                      board += (chr(128996+af[0][2]))\n",
        "                  else:\n",
        "                      board += (\"⬜\")\n",
        "          elif i == 3:\n",
        "              board += (\" 👆👆👆 \"+str(self.num+2))\n",
        "          elif i == 4 or i == 5:\n",
        "              for j in range(1,5):\n",
        "                  af = [l for l in self.nex[(self.num+1)%20] if l[0] ==i-5 and l[1]==j]\n",
        "                  if af:\n",
        "                      board += (chr(128996+af[0][2]))\n",
        "                  else:\n",
        "                      board += (\"⬜\")\n",
        "          elif i == 7:\n",
        "              board += (\" 👆👆👆 \"+str(self.num+3))\n",
        "          elif i == 8 or i == 9:\n",
        "              for j in range(1,5):\n",
        "                  af = [l for l in self.nex[(self.num+2)%20] if l[0] ==i-9 and l[1]==j]\n",
        "                  if af:\n",
        "                      board += (chr(128996+af[0][2]))\n",
        "                  else:\n",
        "                      board += (\"⬜\")\n",
        "          elif i == 12:\n",
        "              board += (\" LEVEL =>\"+str(self.level))\n",
        "          elif i ==14:\n",
        "              board += (\" LINES =>\"+str(self.lines))\n",
        "          elif i == 16:\n",
        "              board += (\" SCORE =>\"+str(self.score))\n",
        "          elif i == 18:\n",
        "              board += (\" -HOLD-\")\n",
        "          elif i == 19 or i == 20:\n",
        "              for j in range(1,5):\n",
        "                  af = [l for l in self.hold if l[0] ==i-20 and l[1]==j]\n",
        "                  if af:\n",
        "                      board += (chr(128996+af[0][2]))\n",
        "                  else:\n",
        "                      board += (\"⬜\")\n",
        "          elif i == 21:\n",
        "              board += (\" ------\")\n",
        "          board += (\"\\n\")\n",
        "      board += (\"⏹\"*8)\n",
        "      print(board)\n",
        "      time.sleep(self.interval)\n",
        "\n",
        "  '''\n",
        "  引数に指定したブロックを盤面に追加する\n",
        "  '''\n",
        "  def setblock(self, block):\n",
        "      self.moveblock.extend(block)\n",
        "      self.angle = 0\n",
        "      if self.num%20==13:\n",
        "          self.nex =[(random.choice(Tetris.blocks) if i < 10 else self.nex[i]) for i in range(20)]\n",
        "      elif self.num%20==3:\n",
        "          self.nex =[(random.choice(Tetris.blocks) if i >= 10 else self.nex[i]) for i in range(20)]\n",
        "\n",
        "  '''\n",
        "  ブロックが落下しなくなったか判定する\n",
        "  '''\n",
        "  def stopfall(self):\n",
        "      for i in self.moveblock:\n",
        "          aa = [j for j in self.location if (j[0] ==i[0]+1 and j[1]==i[1])]\n",
        "          if len(aa)>0 or i[0] >=21:\n",
        "              return True\n",
        "      return False\n",
        "\n",
        "  '''\n",
        "  一列そろっている箇所があれば消去する\n",
        "  '''\n",
        "  def removeline(self):\n",
        "      lines_first = self.lines\n",
        "      L = []\n",
        "      max_colum = 0\n",
        "      for i in range(22):\n",
        "          a = [False for l in range(6)]\n",
        "          for j in range(6):\n",
        "              ab = [k for k in self.location if k[0]==i and k[1]==j]\n",
        "              if len(ab) > 0:\n",
        "                  a[j] = True\n",
        "          if all(a):\n",
        "              self.location = [l for l in self.location if l[0] != i]\n",
        "              self.location.extend([[i,k,0] for k in range(6)])\n",
        "              L.append(i)\n",
        "              self.lines += 1\n",
        "              if self.lines % 10 == 0:\n",
        "                  self.level += 1\n",
        "\n",
        "      if L:\n",
        "              self.printboard()\n",
        "              self.location = [l for l in self.location if l[0] not in L]\n",
        "              for j in L:\n",
        "                  for m in self.location:\n",
        "                      if m[0] < j:\n",
        "                          m[0] += 1\n",
        "      lines_final = self.lines\n",
        "      self.score += (lines_final-lines_first)**2*1000*(self.level+1)\n",
        "\n",
        "  '''\n",
        "  ブロックを右に移動させる\n",
        "  '''\n",
        "  def right(self):\n",
        "      for j in self.moveblock:\n",
        "          j[1] +=1\n",
        "      self.printboard()\n",
        "\n",
        "  '''\n",
        "  ブロックを左に移動させる\n",
        "  '''\n",
        "  def left(self):\n",
        "      for j in self.moveblock:\n",
        "          j[1] -=1\n",
        "      self.printboard()\n",
        "\n",
        "  '''\n",
        "  ブロックを下に動かせるか確かめたのちに下に移動させる\n",
        "  '''\n",
        "  def down(self):\n",
        "      if self.stopfall():\n",
        "            if self.gameover():\n",
        "                return\n",
        "            self.moveblock = [x for x in self.moveblock if len(x) != 2]\n",
        "            self.location.extend(self.moveblock)\n",
        "            self.location\n",
        "            self.moveblock = []\n",
        "            self.removeline()\n",
        "            self.setblock(copy.deepcopy(self.nex[self.num%20]))\n",
        "            self.canhold = True\n",
        "            self.num += 1\n",
        "      else:\n",
        "          for j in self.moveblock:\n",
        "              j[0] +=1\n",
        "          self.printboard()\n",
        "\n",
        "  '''\n",
        "  ブロックを回転させられるか確認する。\n",
        "  - direction:右か左か\n",
        "  '''\n",
        "  def turn(self, direction):\n",
        "      col = self.moveblock[0][2]\n",
        "      angle_before = self.angle\n",
        "      if direction == \"left\":\n",
        "          self.angle = self.angle-1 if self.angle >0 else 3\n",
        "      elif direction == \"right\":\n",
        "          self.angle = self.angle+1 if self.angle <3 else 0\n",
        "      if col > 1:\n",
        "          e = Tetris.roundblock[col-2][self.angle]\n",
        "          if col != 3:\n",
        "              SRSn = (3 if angle_before == 1 else 2)if angle_before%2==1 else(1 if self.angle == 1 else 0)\n",
        "              n = 0\n",
        "              while True:\n",
        "                  m = [[self.moveblock[4][0]+e[0][0]+Tetris.SRS[SRSn][n][0],self.moveblock[4][1]+e[0][1]+Tetris.SRS[SRSn][n][1]],\n",
        "                                  [self.moveblock[4][0]+e[1][0]+Tetris.SRS[SRSn][n][0],self.moveblock[4][1]+e[1][1]+Tetris.SRS[SRSn][n][1]],\n",
        "                                  [self.moveblock[4][0]+e[2][0]+Tetris.SRS[SRSn][n][0],self.moveblock[4][1]+e[2][1]+Tetris.SRS[SRSn][n][1]],\n",
        "                                  [self.moveblock[4][0]+Tetris.SRS[SRSn][n][0],self.moveblock[4][1]+Tetris.SRS[SRSn][n][1]]]\n",
        "                  ac = [j for j in self.location if (j[0] ==m[0][0] and j[1] ==m[0][1])or(j[0] ==m[1][0] and j[1] ==m[1][1])or\n",
        "                      (j[0] ==m[2][0] and j[1] ==m[2][1])or(j[0] ==m[3][0] and j[1] ==m[3][1])]\n",
        "\n",
        "                  if len(ac) ==0 and max(m[0][1],m[1][1],m[2][1],m[3][1]) <= 5 and min(m[0][1],m[1][1],m[2][1],m[3][1])>=0 and max(m[0][0],m[1][0],m[2][0],m[3][0])<=21:\n",
        "                      return [[m[0][0],m[0][1],col],[m[1][0],m[1][1],col],[m[2][0],m[2][1],col],[m[3][0],m[3][1],col],m[3]]\n",
        "                      break\n",
        "                  elif n==4:\n",
        "                      break\n",
        "                  else:\n",
        "                      n += 1\n",
        "          elif col ==3:\n",
        "              if angle_before == 0:\n",
        "                  if self.angle == 1:\n",
        "                      SRSn = 1\n",
        "                  else:\n",
        "                      SRSn = 0\n",
        "              elif angle_before == 1:\n",
        "                  if self.angle ==0:\n",
        "                      SRSn = 3\n",
        "                  else:\n",
        "                      SRSn = 0\n",
        "              elif angle_before == 2:\n",
        "                  if self.angle == 1:\n",
        "                      SRSn = 2\n",
        "                  else:\n",
        "                      SRSn = 3\n",
        "              else:\n",
        "                  if self.angle ==0:\n",
        "                      SRSn = 2\n",
        "                  else:\n",
        "                      SRSn = 1\n",
        "              n = 0\n",
        "              while True:\n",
        "                  m = [[round(self.moveblock[4][0]+e[0][0]+Tetris.SRSofI[SRSn][n][0]),round(self.moveblock[4][1]+e[0][1]+Tetris.SRSofI[SRSn][n][1])],\n",
        "                                  [round(self.moveblock[4][0]+e[1][0]+Tetris.SRSofI[SRSn][n][0]),round(self.moveblock[4][1]+e[1][1]+Tetris.SRSofI[SRSn][n][1])],\n",
        "                                  [round(self.moveblock[4][0]+e[2][0]+Tetris.SRSofI[SRSn][n][0]),round(self.moveblock[4][1]+e[2][1]+Tetris.SRSofI[SRSn][n][1])],\n",
        "                                  [round(self.moveblock[4][0]+e[3][0]+Tetris.SRSofI[SRSn][n][0]),round(self.moveblock[4][1]+e[3][1]+Tetris.SRSofI[SRSn][n][1])]]\n",
        "                  ac = [j for j in self.location if (j[0] ==m[0][0] and j[1] ==m[0][1])or(j[0] ==m[1][0] and j[1] ==m[1][1])or\n",
        "                      (j[0] ==m[2][0] and j[1] ==m[2][1])or(j[0] ==m[3][0] and j[1] ==m[3][1])]\n",
        "\n",
        "                  if len(ac) ==0 and max(m[0][1],m[1][1],m[2][1],m[3][1])<=5 and min(m[0][1],m[1][1],m[2][1],m[3][1])>=0 and max(m[0][0],m[1][0],m[2][0],m[3][0])<=21:\n",
        "                      return [[m[0][0],m[0][1],col],[m[1][0],m[1][1],col],[m[2][0],m[2][1],col],[m[3][0],m[3][1],col],[self.moveblock[4][0]+Tetris.SRSofI[SRSn][n][0],self.moveblock[4][1]+Tetris.SRSofI[SRSn][n][1]]]\n",
        "                      break\n",
        "                  elif n==4:\n",
        "                      break\n",
        "                  else:\n",
        "                      n += 1\n",
        "      return []\n",
        "\n",
        "  def turnright(self):\n",
        "      self.moveblock = self.turn_right\n",
        "      self.printboard()\n",
        "\n",
        "  def turnleft(self):\n",
        "      self.moveblock = self.turn_left\n",
        "      self.printboard()\n",
        "\n",
        "  '''\n",
        "  ブロックをホールドする\n",
        "  '''\n",
        "  def holding(self):\n",
        "      if not self.hold:\n",
        "          self.hold =Tetris.blocks[self.moveblock[0][2]-1][:]\n",
        "          self.moveblock = []\n",
        "          self.setblock(copy.deepcopy(self.nex[self.num%20]))\n",
        "          self.canhold = True\n",
        "          self.num += 1\n",
        "      else:\n",
        "          if self.canhold:\n",
        "              self.hold , self.moveblock = copy.deepcopy(Tetris.blocks[self.moveblock[0][2]-1]) , copy.deepcopy(self.hold)\n",
        "              self.canhold = False\n",
        "          else:\n",
        "              return\n",
        "      self.printboard()\n",
        "\n",
        "  '''\n",
        "  ゲームオーバーかどうかの判定を行う\n",
        "  '''\n",
        "  def gameover(self):\n",
        "    try:\n",
        "      min_moveblock = min(self.moveblock[i][0] for i in range(len(self.moveblock)))\n",
        "    except:\n",
        "      min_moveblock = 22\n",
        "    try:\n",
        "      min_location = min(self.location[i][0] for i in range(len(self.location)))\n",
        "    except:\n",
        "      min_location = 22\n",
        "\n",
        "    return min_moveblock < 2 and min_location < 2\n",
        "\n",
        "  '''\n",
        "  盤面と落下中のブロック、ホールドブロックの形状を返す\n",
        "  '''\n",
        "  def get_state(self):\n",
        "    # 上部の形状のみを抽出して返す関数\n",
        "    if self.location:\n",
        "      mine0 = min(self.location[i][0] for i in range(len(self.location)))\n",
        "    else:\n",
        "      mine0 = 22\n",
        "    def transform_matrix(matrix, mine0):\n",
        "      result = np.zeros(6, dtype=int)\n",
        "      for j in range(6):\n",
        "        try:\n",
        "          mine0_ = min(self.location[i][0] for i in range(len(self.location)) if self.location[i][1] == j)\n",
        "        except:\n",
        "          mine0_ = 22\n",
        "        result[j] += ((mine0_ - mine0) if (mine0_ - mine0) <= 3 else 4)\n",
        "      return result\n",
        "    height = mine0 - int(self.moveblock[4][0])\n",
        "    location = tuple(transform_matrix(self.location, mine0))\n",
        "    moveblock = self.moveblock[0][2], self.angle, min(height, 4) , int(self.moveblock[4][1]) #, self.hold[0][2] if self.hold else self.nex[self.num%20][0][2]\n",
        "    return location, moveblock\n",
        "\n",
        "  '''\n",
        "  すべての可能な行動を返す\n",
        "  - 状態のループを防止するために以下の行動を追加で禁止\n",
        "  ・右移動→左移動→右移動\n",
        "  ・左移動→右移動→左移動\n",
        "  ・右回転→左回転→右回転\n",
        "  ・左回転→右回転→左回転\n",
        "  '''\n",
        "  def get_possible_actions(self):\n",
        "    possible_actions = [\"down\"]\n",
        "    right = True\n",
        "    for i in self.moveblock:\n",
        "        aa = [j for j in self.location if (j[1] ==i[1]+1 and j[0]==i[0])]\n",
        "        if len(aa) > 0 or i[1] >= 5:\n",
        "            right = False\n",
        "            break\n",
        "    if (right):\n",
        "      if not (self.before_action == \"left\"  and self.before_before_action == \"right\"):\n",
        "        possible_actions.append(\"right\")\n",
        "    left = True\n",
        "    for i in self.moveblock:\n",
        "        aa = [j for j in self.location if (j[1] ==i[1]-1 and j[0]==i[0])]\n",
        "        if len(aa) > 0 or i[1] <=0:\n",
        "            left = False\n",
        "            break\n",
        "    if (left):\n",
        "      if not (self.before_action == \"right\" and self.before_before_action == \"left\"):\n",
        "        possible_actions.append(\"left\")\n",
        "    self.turn_left = self.turn(\"left\")\n",
        "    self.turn_right = self.turn(\"right\")\n",
        "    if (self.turn_left):\n",
        "      if not (self.before_action == \"turn-right\" and self.before_before_action == \"turn-left\"):\n",
        "        possible_actions.append(\"turn-left\")\n",
        "    if (self.turn_right):\n",
        "      if not (self.before_action == \"turn-left\" and self.before_before_action == \"turn-right\"):\n",
        "        possible_actions.append(\"turn-right\")\n",
        "    if self.canhold:\n",
        "      possible_actions.append(\"hold\")\n",
        "    random.shuffle(possible_actions)\n",
        "    return possible_actions #シャッフルして渡すことで学習初期の学習効率を向上させる\n",
        "\n",
        "  '''\n",
        "  スコアを取得する\n",
        "  '''\n",
        "  def get_score(self):\n",
        "    return self.score\n",
        "\n",
        "  '''\n",
        "  盤面の変更を行う\n",
        "  '''\n",
        "  def modify_board(self, action):\n",
        "    # self.score -= 1\n",
        "    self.before_before_action = self.before_action\n",
        "    self.before_action = action\n",
        "\n",
        "    if action == \"right\":\n",
        "        self.right()\n",
        "    elif action == \"left\":\n",
        "        self.left()\n",
        "    elif action == \"down\":\n",
        "        self.down()\n",
        "    elif action == \"turn-left\":\n",
        "        self.turnleft()\n",
        "        # self.score -= 10\n",
        "    elif action == \"turn-right\":\n",
        "        self.turnright()\n",
        "        # self.score -= 10\n",
        "    elif action == \"hold\":\n",
        "        self.holding()\n",
        "    # 20回の操作ごとに強制落下させる\n",
        "    if action == \"down\":\n",
        "      self.downcount = 0\n",
        "    else:\n",
        "      self.score -= 1\n",
        "      self.downcount += 1\n",
        "      if self.downcount >= 20:\n",
        "        self.down()\n",
        "        self.downcount = 0\n"
      ],
      "metadata": {
        "id": "ykesHKTt4zjC",
        "collapsed": true
      },
      "execution_count": 77,
      "outputs": []
    },
    {
      "cell_type": "markdown",
      "source": [
        "## 2. Agentの定義"
      ],
      "metadata": {
        "id": "qT2hfnFqv0fn"
      }
    },
    {
      "cell_type": "code",
      "source": [
        "class Agent:\n",
        "    def __init__(self):\n",
        "        self.frozen = False\n",
        "\n",
        "    def train(self):\n",
        "        self.frozen = False\n",
        "\n",
        "    def eval(self):\n",
        "        self.frozen = True\n",
        "\n",
        "    def _observe(self, tetris: Tetris ) -> tuple[torch.Tensor, torch.Tensor, torch.Tensor]:\n",
        "        return tetris.get_state()\n",
        "\n",
        "    def action(self, tetris: Tetris):\n",
        "        pass\n",
        "\n",
        "    def update(self, tetris: Tetris, state, action, reward1, new_state):\n",
        "        pass"
      ],
      "metadata": {
        "id": "rtUz7BHev5Vg"
      },
      "execution_count": null,
      "outputs": []
    },
    {
      "cell_type": "markdown",
      "source": [
        "### 2-1. Qエージェントの定義"
      ],
      "metadata": {
        "id": "R7mPs5Kw62EH"
      }
    },
    {
      "cell_type": "code",
      "source": [
        "class QAgent(Agent):\n",
        "    def __init__(self, lr: float, eps = 0.3):\n",
        "        super().__init__()\n",
        "        self.q_table = {}  # Qテーブルの初期化\n",
        "        self.discount_factor = 0.85\n",
        "        self.learning_rate = lr\n",
        "        self.epsilon = eps\n",
        "\n",
        "    def action(self, tetris: Tetris) :\n",
        "        board, block = self._observe(tetris)\n",
        "        possible_actions = tetris.get_possible_actions()\n",
        "        if not self.frozen and random.random() < self.epsilon:\n",
        "            return random.choice(possible_actions)\n",
        "        else:\n",
        "            best_action, _ = self._get_the_best(board, block, possible_actions)\n",
        "            return best_action\n",
        "\n",
        "    def _get_the_best(self, board, block, possible_moves):\n",
        "        best_move = None\n",
        "        best_q_value = -float('inf')\n",
        "        for move in possible_moves:\n",
        "            q_value = self.q_table.get((board,block,move), 0)\n",
        "            if q_value > best_q_value:\n",
        "                best_q_value = q_value\n",
        "                best_move = move\n",
        "        return best_move, best_q_value\n",
        "\n",
        "    #stateとnext_stateはboardとblockを渡す\n",
        "    def update(self, tetris, state, action, reward, next_state):\n",
        "        if self.frozen:\n",
        "            return None\n",
        "\n",
        "        old_value = self.q_table.get((state[0], state[1], action), 0)\n",
        "        possible_moves = tetris.get_possible_actions()\n",
        "\n",
        "        assert next_state is not None\n",
        "        next_max = max([self.q_table.get((next_state[0], next_state[1], next_action), 0) for next_action in possible_moves])\n",
        "\n",
        "        new_value = old_value + self.learning_rate * (reward + self.discount_factor * next_max - old_value)\n",
        "        self.q_table[(state[0], state[1], action)] = new_value"
      ],
      "metadata": {
        "id": "12vTrWXa68iM"
      },
      "execution_count": null,
      "outputs": []
    },
    {
      "cell_type": "markdown",
      "source": [
        "### 2-2. 人間エージェントの定義"
      ],
      "metadata": {
        "id": "du2UGARBvXuq"
      }
    },
    {
      "cell_type": "code",
      "source": [
        "class HumanAgent(Agent):\n",
        "  def action(self, tetris: Tetris):\n",
        "        valid_moves = tetris.get_possible_actions()\n",
        "        while True:\n",
        "            user_input = input(\"Enter your move: \")\n",
        "            return user_input"
      ],
      "metadata": {
        "id": "2p6duRMkvb8k"
      },
      "execution_count": null,
      "outputs": []
    },
    {
      "cell_type": "markdown",
      "source": [
        "## 3. Env."
      ],
      "metadata": {
        "id": "4XKtwL2jK8XX"
      }
    },
    {
      "cell_type": "code",
      "source": [
        "import tqdm\n",
        "import plotly.graph_objects as go\n",
        "\n",
        "class Env:\n",
        "    def __init__(self, agent: Agent, tetris: Tetris) -> None:\n",
        "        self.agent = agent\n",
        "        self.tetris = tetris\n",
        "\n",
        "    def _get_reward(self) -> int:\n",
        "        score = self.tetris.get_score()\n",
        "        return score\n",
        "\n",
        "    def train(self, episodes: int, visualize=False) :  # Nエピソード実行\n",
        "        record = []\n",
        "        for i in tqdm.tqdm(range(episodes)):\n",
        "            score = self.execute(train=True, visualize=visualize)\n",
        "            record.append(self._get_reward())\n",
        "        print(\"Report:\")\n",
        "        return record\n",
        "\n",
        "    def execute(self, train=False, visualize=True):  # 1 episode\n",
        "        self.tetris.reset_game()\n",
        "\n",
        "        while not self.tetris.gameover():\n",
        "            state = self.tetris.get_state()\n",
        "            while True:\n",
        "                action = self.agent.action(self.tetris)\n",
        "                before_point = self.tetris.get_score()\n",
        "                self.tetris.modify_board(action)\n",
        "                after_point = self.tetris.get_score()\n",
        "                reward = after_point - before_point\n",
        "                if train:\n",
        "                    next_state = self.tetris.get_state()\n",
        "\n",
        "                    if action is not None:\n",
        "                        self.agent.update(self.tetris, state, action, reward, next_state)\n",
        "                break\n",
        "\n",
        "        # game end\n",
        "        score = self.tetris.get_score()\n",
        "        if random.random() < 0.001:\n",
        "          self.tetris.printboard(display_force = True)\n",
        "        return score"
      ],
      "metadata": {
        "id": "k_J1ulA5LBGM"
      },
      "execution_count": 69,
      "outputs": []
    },
    {
      "cell_type": "markdown",
      "source": [
        "# 4. Q学習\n",
        "学習中、現状確認のために一定の確率でゲームオーバー時の盤面が出力される"
      ],
      "metadata": {
        "id": "-Ssv8Pt5XKlf"
      }
    },
    {
      "cell_type": "code",
      "source": [
        "q_agent = QAgent(lr=0.1, eps=0.1)\n",
        "q_agent.epsilon = 0.3 #εはこのくらい大きめの方が経験的に良い\n",
        "tetris = Tetris(False)\n",
        "env = Env(q_agent, tetris)\n",
        "record = env.train(1000)\n",
        "fig = go.Figure(data=go.Scatter(y=record))\n",
        "fig.show()"
      ],
      "metadata": {
        "id": "t-GYzUSlXMRb"
      },
      "execution_count": null,
      "outputs": []
    },
    {
      "cell_type": "markdown",
      "source": [
        "# 5. 学習が完了したQエージェントにプレイさせてみる\n",
        "モデルが実際にどのようなプレイをするのか確かめる。"
      ],
      "metadata": {
        "id": "VlmCVNaBGgaX"
      }
    },
    {
      "cell_type": "code",
      "source": [
        "q_agent.eval()\n",
        "env = Env(q_agent, Tetris(True, interval = 0.05))\n",
        "env.execute()\n",
        "q_agent.train()"
      ],
      "metadata": {
        "collapsed": true,
        "id": "1d3DNsi7GKZC"
      },
      "execution_count": null,
      "outputs": []
    },
    {
      "cell_type": "markdown",
      "source": [
        "# 6. 追加で学習させたい場合\n",
        "モデルをリセットせずにさらに学習させたい場合はここを実行  \n",
        "epsilon, lr を適宜変更するとよい"
      ],
      "metadata": {
        "id": "cUiawFm7KU-y"
      }
    },
    {
      "cell_type": "code",
      "source": [
        "# @title 追加学習の内容 { display-mode: \"both\" }\n",
        "epsilon = 0.3 # @param {type:\"number\"}\n",
        "lr = 0.1 # @param {type:\"number\"}\n",
        "train_num = 1000 # @param {type:\"number\"}\n",
        "q_agent.train()\n",
        "tetris = Tetris(False)\n",
        "q_agent.epsilon = epsilon\n",
        "q_agent.learning_rate = lr\n",
        "env = Env(q_agent, tetris)\n",
        "record = env.train(train_num)\n",
        "fig = go.Figure(data=go.Scatter(y=record))\n",
        "fig.show()"
      ],
      "metadata": {
        "id": "06GC55ZLKhFJ"
      },
      "execution_count": null,
      "outputs": []
    },
    {
      "cell_type": "markdown",
      "source": [
        "# 付録"
      ],
      "metadata": {
        "id": "jfXNasddNXA6"
      }
    },
    {
      "cell_type": "markdown",
      "source": [
        "## 手動で遊んでみる\n",
        "※ 非常にユーザビリティが悪いため、やらない方がよい(笑)\n"
      ],
      "metadata": {
        "id": "A1ZjWqiKJLEd"
      }
    },
    {
      "cell_type": "code",
      "source": [
        "env = Env(HumanAgent(), Tetris(True))\n",
        "env.execute()"
      ],
      "metadata": {
        "collapsed": true,
        "id": "z7LP_mI0v-81"
      },
      "execution_count": null,
      "outputs": []
    },
    {
      "cell_type": "markdown",
      "source": [
        "## Qテーブルを見てみる\n",
        "モデルが学習したQ値を見ることができる。  \n",
        "ただし、モデルが重い場合は非常に時間がかかったり、そもそも出力してくれなかったりする可能性がある\n"
      ],
      "metadata": {
        "id": "FzojnAMBJepn"
      }
    },
    {
      "cell_type": "code",
      "source": [
        "print((q_agent.q_table))"
      ],
      "metadata": {
        "id": "YioFMd018R0e"
      },
      "execution_count": null,
      "outputs": []
    },
    {
      "cell_type": "markdown",
      "source": [
        "## うまく学習できた場合のデータを用いてプレイ\n",
        "学習にはランダム性があるので失敗することがある  \n",
        "うまくいった際のQテーブルを用いたプレイはこちらから  \n",
        "※約10000エピソード程度の学習結果"
      ],
      "metadata": {
        "id": "P4cPnc_1ReGD"
      }
    },
    {
      "cell_type": "code",
      "source": [
        "# @title うまくいったQテーブルをgithubから読み込む { display-mode: \"form\" }\n",
        "\n",
        "!git clone https://github.com/takagiyuusuke/Q_TETRIS_lv2.git\n",
        "\n",
        "import os\n",
        "import sys\n",
        "\n",
        "os.chdir('Q_TETRIS_lv2')\n",
        "sys.path.append(os.getcwd())\n",
        "\n",
        "import GoodQTable\n",
        "\n",
        "good_q_table = GoodQTable.good_q_table"
      ],
      "metadata": {
        "id": "TK4M-RTvS-aW"
      },
      "execution_count": null,
      "outputs": []
    },
    {
      "cell_type": "code",
      "source": [
        "q_agent = QAgent(lr = 0.1)\n",
        "q_agent.q_table = good_q_table\n",
        "q_agent.eval()\n",
        "interval = 0.05 #intervalの値は再生の速さ(小さい値ほど早い)\n",
        "assert interval >= 0\n",
        "env = Env(q_agent, Tetris(True,interval = interval))\n",
        "env.execute()"
      ],
      "metadata": {
        "id": "3cG9Oh5JSG0W"
      },
      "execution_count": null,
      "outputs": []
    }
  ]
}
